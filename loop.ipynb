{
 "cells": [
  {
   "cell_type": "markdown",
   "id": "b3b4680c-4366-4b99-bf02-13b68b7c375a",
   "metadata": {},
   "source": [
    "# For Loop Assignment Questions"
   ]
  },
  {
   "cell_type": "markdown",
   "id": "f74197c2-ad4e-46c4-8aad-7162f6199dfc",
   "metadata": {},
   "source": [
    "# Basic Level:"
   ]
  },
  {
   "cell_type": "markdown",
   "id": "3d5ef6f6-46b5-425c-8726-a980a64d29cb",
   "metadata": {},
   "source": [
    "# 1. Write a Python program to print the numbers from 1 to 10 using a `for` loop."
   ]
  },
  {
   "cell_type": "code",
   "execution_count": 3,
   "id": "0fecd6bd-6a23-4ff4-bb7a-590da8d33e59",
   "metadata": {},
   "outputs": [
    {
     "name": "stdout",
     "output_type": "stream",
     "text": [
      "1\n",
      "2\n",
      "3\n",
      "4\n",
      "5\n",
      "6\n",
      "7\n",
      "8\n",
      "9\n",
      "10\n"
     ]
    }
   ],
   "source": [
    "for i in range (1,11):\n",
    "    print(i)"
   ]
  },
  {
   "cell_type": "markdown",
   "id": "23581e89-af51-4e46-a8fe-c5b27d34043e",
   "metadata": {},
   "source": [
    "# 2. Create a program that calculates the sum of all numbers in a list using a `for` loop."
   ]
  },
  {
   "cell_type": "code",
   "execution_count": 4,
   "id": "7b5b0ed8-619b-416c-baa7-5a3e2a15dd19",
   "metadata": {},
   "outputs": [
    {
     "name": "stdout",
     "output_type": "stream",
     "text": [
      " sum is  55\n"
     ]
    }
   ],
   "source": [
    "numbers =[ 1,2,3,4,5,6,7,8,9,10]\n",
    "sum_of_numbers =0 \n",
    "for i in numbers :\n",
    "    sum_of_numbers +=i\n",
    "print(\" sum is \", sum_of_numbers)"
   ]
  },
  {
   "cell_type": "markdown",
   "id": "07af390d-1506-4a8d-ba92-e54dedefe202",
   "metadata": {},
   "source": [
    "# 3. Write a program to print the characters of a string in reverse order using a `for` loop."
   ]
  },
  {
   "cell_type": "code",
   "execution_count": 11,
   "id": "c1db97c7-5ab8-4f99-bc02-4ef014ab558d",
   "metadata": {},
   "outputs": [
    {
     "name": "stdin",
     "output_type": "stream",
     "text": [
      "enter your string daheem farooqui\n"
     ]
    },
    {
     "name": "stdout",
     "output_type": "stream",
     "text": [
      "string in reverse order iuqooraf meehad\n"
     ]
    }
   ],
   "source": [
    "input_string = input(\"enter your string\")\n",
    "reversed_string = \"\"\n",
    "# loop program\n",
    "for char in reversed(input_string):\n",
    "    reversed_string += char\n",
    "    \n",
    "ddprint(\"string in reverse order\" ,reversed_string)"
   ]
  },
  {
   "cell_type": "markdown",
   "id": "23c025a2-81e8-4fa3-b717-0a64fb4e5244",
   "metadata": {},
   "source": [
    "# 4. Develop a program that finds the factorial of a given number using a `for` loop."
   ]
  },
  {
   "cell_type": "code",
   "execution_count": 33,
   "id": "ca643350-7f5f-4a9b-a2b2-b1f34c2f0f83",
   "metadata": {},
   "outputs": [
    {
     "name": "stdin",
     "output_type": "stream",
     "text": [
      "Enter a number:  5\n"
     ]
    },
    {
     "name": "stdout",
     "output_type": "stream",
     "text": [
      "The factorial of 5 is: 120\n"
     ]
    }
   ],
   "source": [
    "def factorial(n):\n",
    "    result = 1\n",
    "    for i in range(1, n + 1):\n",
    "        result *= i\n",
    "\n",
    "    return result\n",
    "num = int(input(\"Enter a number: \"))\n",
    "\n",
    "if num < 0:\n",
    "    print(\"Factorial is not defined for negative numbers.\")\n",
    "else:\n",
    "    print(f\"The factorial of {num} is: {factorial(num)}\")\n"
   ]
  },
  {
   "cell_type": "markdown",
   "id": "6d088521-f7a3-4baf-a8d5-a9619cd1155e",
   "metadata": {},
   "source": [
    "# 5. Create a program to print the multiplication table of a given number using a `for` loop."
   ]
  },
  {
   "cell_type": "code",
   "execution_count": 3,
   "id": "ff487624-0f87-4c00-be3e-b5ccf31e607d",
   "metadata": {},
   "outputs": [
    {
     "name": "stdin",
     "output_type": "stream",
     "text": [
      "enter your number 56\n"
     ]
    },
    {
     "name": "stdout",
     "output_type": "stream",
     "text": [
      "multiplication table\n",
      "56 x 1 = 56\n",
      "56 x 2 = 112\n",
      "56 x 3 = 168\n",
      "56 x 4 = 224\n",
      "56 x 5 = 280\n",
      "56 x 6 = 336\n",
      "56 x 7 = 392\n",
      "56 x 8 = 448\n",
      "56 x 9 = 504\n",
      "56 x 10 = 560\n"
     ]
    }
   ],
   "source": [
    "num=int(input(\"enter your number\"))\n",
    "if num<=0:\n",
    "    print(\"invalid number\")\n",
    "else:\n",
    "    print(\"multiplication table\")\n",
    "    for i in range(1,11):\n",
    "        print(f\"{num} x {i} = {num * i}\")"
   ]
  },
  {
   "cell_type": "markdown",
   "id": "1041e3b7-5dd6-4c56-ba17-2b2665a97921",
   "metadata": {},
   "source": [
    "# 6. Write a program that counts the number of even and odd numbers in a list using a `for` loop."
   ]
  },
  {
   "cell_type": "code",
   "execution_count": 13,
   "id": "22d15272-38ae-4645-84f3-71b64c481fc3",
   "metadata": {},
   "outputs": [
    {
     "name": "stdout",
     "output_type": "stream",
     "text": [
      "even 5\n",
      "odd 5\n"
     ]
    }
   ],
   "source": [
    "no = [1,2,3,4,5,6,7,8,9,10]\n",
    "evencount = 0\n",
    "oddcount = 0\n",
    "for no in no:\n",
    "    if no % 2 == 0:\n",
    "        evencount +=1\n",
    "    else:\n",
    "        oddcount +=1\n",
    "print(\"even\",evencount)\n",
    "print(\"odd\",oddcount)"
   ]
  },
  {
   "cell_type": "markdown",
   "id": "c598ce7f-50b8-4e37-b9dc-b6a35d2e8d5a",
   "metadata": {},
   "source": [
    "# 7. Develop a program that prints the squares of numbers from 1 to 5 using a `for` loop."
   ]
  },
  {
   "cell_type": "code",
   "execution_count": 16,
   "id": "662f085d-4ea5-47d5-8405-624df8928acb",
   "metadata": {},
   "outputs": [
    {
     "name": "stdout",
     "output_type": "stream",
     "text": [
      "the square of 1 is : 1\n",
      "the square of 2 is : 4\n",
      "the square of 3 is : 9\n",
      "the square of 4 is : 16\n",
      "the square of 5 is : 25\n"
     ]
    }
   ],
   "source": [
    "for i in range(1,6):\n",
    "    squ = i **2\n",
    "    print(f\"the square of {i} is : {squ}\")"
   ]
  },
  {
   "cell_type": "markdown",
   "id": "c5cea009-35cc-4414-b622-9a3b4a0d5d1d",
   "metadata": {},
   "source": [
    "# 8. Create a program to find the length of a string without using the `len()` function."
   ]
  },
  {
   "cell_type": "code",
   "execution_count": 22,
   "id": "1376523d-a9b8-47d6-8330-116540d5e6bc",
   "metadata": {},
   "outputs": [
    {
     "name": "stdin",
     "output_type": "stream",
     "text": [
      "input a word daheem\n"
     ]
    },
    {
     "name": "stdout",
     "output_type": "stream",
     "text": [
      "the lenght of the string is :6\n"
     ]
    }
   ],
   "source": [
    "def findlenght(input_string):\n",
    "    count = 0\n",
    "    for _ in input_string:\n",
    "        count += 1\n",
    "    return count\n",
    "\n",
    "user_string = input(\"input a word\")\n",
    " \n",
    "lenght = findlenght(user_string)\n",
    "print(f\"the lenght of the string is :{lenght}\")"
   ]
  },
  {
   "cell_type": "markdown",
   "id": "385d1be3-1894-4dfb-8e8e-b34b6672db67",
   "metadata": {},
   "source": [
    "# 9. Write a program that calculates the average of a list of numbers using a `for` loop."
   ]
  },
  {
   "cell_type": "code",
   "execution_count": 34,
   "id": "e796c7b5-49c8-4dac-9856-4a634c7061b5",
   "metadata": {},
   "outputs": [
    {
     "name": "stdout",
     "output_type": "stream",
     "text": [
      "The average of the numbers is: 8.4\n"
     ]
    }
   ],
   "source": [
    "\n",
    "def calculate_average(number_list):\n",
    "    total = 0\n",
    "    count = 0\n",
    "\n",
    "    for number in number_list:\n",
    "        total += number\n",
    "        count += 1\n",
    "\n",
    "    if count != 0:\n",
    "        average = total / count\n",
    "        return average\n",
    "    else:\n",
    "        return \"The list is empty.\"\n",
    "\n",
    "numbers = [10, 5, 8, 12, 7]\n",
    "result = calculate_average(numbers)\n",
    "print(f\"The average of the numbers is: {result}\")\n"
   ]
  },
  {
   "cell_type": "markdown",
   "id": "ffc39f78-b4c6-40cb-a05b-fb4b2c05813b",
   "metadata": {},
   "source": [
    " # 10. Develop a program that prints the first `n` Fibonacci numbers using a `for` loop."
   ]
  },
  {
   "cell_type": "code",
   "execution_count": null,
   "id": "81a697ce-a44a-4b28-8202-981fccf96a11",
   "metadata": {},
   "outputs": [],
   "source": []
  },
  {
   "cell_type": "markdown",
   "id": "00125878-550c-4354-a458-74260a844e40",
   "metadata": {},
   "source": [
    "## Intermediate Level:"
   ]
  },
  {
   "cell_type": "markdown",
   "id": "5b4594a3-9cb3-479b-ad0f-20516d4f7bfe",
   "metadata": {},
   "source": [
    "# 11. Write a program to check if a given list contains any duplicates using a `for` loop."
   ]
  },
  {
   "cell_type": "code",
   "execution_count": 37,
   "id": "6d8d23ba-ce32-4d38-8eb6-b8609da57aff",
   "metadata": {},
   "outputs": [
    {
     "name": "stdout",
     "output_type": "stream",
     "text": [
      "the list has duplicates values \n"
     ]
    }
   ],
   "source": [
    "def has_duplicates(input_list):\n",
    "    seen = set()\n",
    "    for i in input_list:\n",
    "        if i in seen:\n",
    "            return True\n",
    "        seen.add(i)\n",
    "        \n",
    "    return False\n",
    "\n",
    "my_list = [1,2,3,4,5,3,5,2,6]\n",
    "\n",
    "if has_duplicates(my_list):\n",
    "    print(\"the list has duplicates values \")\n",
    "else:\n",
    "    print(\"the list has not duplicates values\")\n",
    "           "
   ]
  },
  {
   "cell_type": "markdown",
   "id": "7f3d67f5-bec1-4673-9cf1-3fbb12d5569d",
   "metadata": {},
   "source": [
    "# .12. Create a program that prints the prime numbers in a given range using a `for` loop."
   ]
  },
  {
   "cell_type": "code",
   "execution_count": 1,
   "id": "c00252ae-8e28-4f67-b79b-36905f2c104c",
   "metadata": {},
   "outputs": [
    {
     "name": "stdin",
     "output_type": "stream",
     "text": [
      "ENTER THE START OF THE RANGE: 1\n",
      "ENTER THE END OF THE RANGE : 1\n"
     ]
    },
    {
     "name": "stdout",
     "output_type": "stream",
     "text": [
      "prime number in the range 1 to 1 is\n"
     ]
    }
   ],
   "source": [
    "def is_prime(num):\n",
    "    if num < 2:\n",
    "        return False\n",
    "    for i in range(2, int(num**0.5) +1):\n",
    "        if num% i ==0:\n",
    "            return False\n",
    "    return True\n",
    "\n",
    "def print_prime_in_range(start,end):\n",
    "    for num in range (start,end + 1):\n",
    "        if is_prime(num):\n",
    "            print(num)\n",
    "            \n",
    "            \n",
    "start_range = int(input(\"ENTER THE START OF THE RANGE:\"))\n",
    "end_range = int(input(\"ENTER THE END OF THE RANGE :\"))\n",
    "\n",
    "print(\"prime number in the range\",start_range,\"to\" , end_range ,\"is\")\n",
    "print_prime_in_range(start_range, end_range)"
   ]
  },
  {
   "cell_type": "markdown",
   "id": "05428919-51ef-47d9-bbab-732f6cd4539e",
   "metadata": {},
   "source": [
    "# 13. Develop a program that counts the number of vowels in a string using a `for` loop."
   ]
  },
  {
   "cell_type": "code",
   "execution_count": 1,
   "id": "0699b712-50b5-4a38-927b-fd0bbbbc395b",
   "metadata": {},
   "outputs": [
    {
     "name": "stdin",
     "output_type": "stream",
     "text": [
      "enter a sring daheem\n"
     ]
    },
    {
     "name": "stdout",
     "output_type": "stream",
     "text": [
      "The number of vowels in yhr string is : 3\n"
     ]
    }
   ],
   "source": [
    "def count_vowels(input_string):\n",
    "    vowels = \"aeiouAEIOU\"\n",
    "    count = 0 \n",
    "    \n",
    "    for char in input_string:\n",
    "        if char in vowels:\n",
    "            count += 1\n",
    "            \n",
    "    return count\n",
    "\n",
    "input_str = input(\"enter a sring\")\n",
    "result = count_vowels (input_str)\n",
    "\n",
    "print(f\"The number of vowels in yhr string is : {result}\")"
   ]
  },
  {
   "cell_type": "markdown",
   "id": "895be4ce-4545-4271-91aa-96208f7b2b4d",
   "metadata": {},
   "source": [
    "# 15. Create a program that removes all occurrences of a specific element from a list using a `for` loop."
   ]
  },
  {
   "cell_type": "code",
   "execution_count": 6,
   "id": "5a8a8699-af1b-4a4d-8551-7c1840a4d8b1",
   "metadata": {},
   "outputs": [
    {
     "name": "stdout",
     "output_type": "stream",
     "text": [
      "orignal list: [1, 2, 3, 2, 4, 2, 5]\n",
      "list after removing all occurences of  2 : [1, 2, 3, 2, 4, 2, 5]\n"
     ]
    }
   ],
   "source": [
    "def remove_element(lt,element_to_remove):\n",
    "    \n",
    "    \n",
    "    for item in lt[:]:\n",
    "        if item == element_to_remove:\n",
    "            lt.remove\n",
    "            \n",
    "my_list = [1, 2, 3, 2, 4, 2, 5]\n",
    "element_to_remove = 2\n",
    "\n",
    "print(\"orignal list:\",my_list)\n",
    "\n",
    "remove_element(my_list, element_to_remove)\n",
    "print(\"list after removing all occurences of \",element_to_remove,\":\",my_list)"
   ]
  },
  {
   "cell_type": "markdown",
   "id": "a907ab04-b2f6-4657-a0de-ee884538e7c1",
   "metadata": {},
   "source": [
    "# 16. Develop a program that generates a multiplication table for numbers from 1 to 5 using a nested `for` loop."
   ]
  },
  {
   "cell_type": "code",
   "execution_count": 21,
   "id": "fe0eb4b1-8013-4e99-997f-2c99e413ad75",
   "metadata": {},
   "outputs": [
    {
     "name": "stdout",
     "output_type": "stream",
     "text": [
      "multiplication table for 1:\n",
      "1 x 1 = 1\n",
      "1 x 2 = 1\n",
      "1 x 3 = 1\n",
      "1 x 4 = 1\n",
      "1 x 5 = 1\n",
      "1 x 6 = 1\n",
      "1 x 7 = 1\n",
      "1 x 8 = 1\n",
      "1 x 9 = 1\n",
      "1 x 10 = 1\n",
      "multiplication table for 2:\n",
      "2 x 1 = 4\n",
      "2 x 2 = 4\n",
      "2 x 3 = 4\n",
      "2 x 4 = 4\n",
      "2 x 5 = 4\n",
      "2 x 6 = 4\n",
      "2 x 7 = 4\n",
      "2 x 8 = 4\n",
      "2 x 9 = 4\n",
      "2 x 10 = 4\n",
      "multiplication table for 3:\n",
      "3 x 1 = 9\n",
      "3 x 2 = 9\n",
      "3 x 3 = 9\n",
      "3 x 4 = 9\n",
      "3 x 5 = 9\n",
      "3 x 6 = 9\n",
      "3 x 7 = 9\n",
      "3 x 8 = 9\n",
      "3 x 9 = 9\n",
      "3 x 10 = 9\n",
      "multiplication table for 4:\n",
      "4 x 1 = 16\n",
      "4 x 2 = 16\n",
      "4 x 3 = 16\n",
      "4 x 4 = 16\n",
      "4 x 5 = 16\n",
      "4 x 6 = 16\n",
      "4 x 7 = 16\n",
      "4 x 8 = 16\n",
      "4 x 9 = 16\n",
      "4 x 10 = 16\n",
      "multiplication table for 5:\n",
      "5 x 1 = 25\n",
      "5 x 2 = 25\n",
      "5 x 3 = 25\n",
      "5 x 4 = 25\n",
      "5 x 5 = 25\n",
      "5 x 6 = 25\n",
      "5 x 7 = 25\n",
      "5 x 8 = 25\n",
      "5 x 9 = 25\n",
      "5 x 10 = 25\n"
     ]
    }
   ],
   "source": [
    "for i in range (start_range , end_range + 1 ):\n",
    "    print(f\"multiplication table for {i}:\")\n",
    "    \n",
    "    for j in range (1, 11):\n",
    "        result = i * i \n",
    "        print(f\"{i} x {j} = {result}\")\n",
    "\n",
    "start_range =1 \n",
    "end_range = 5\n",
    "    "
   ]
  },
  {
   "cell_type": "markdown",
   "id": "4769eabc-e153-41be-874c-1428fa53805b",
   "metadata": {},
   "source": [
    "# 17. Write a program that converts a list of Fahrenheit temperatures to Celsius using a `for` loop."
   ]
  },
  {
   "cell_type": "code",
   "execution_count": 23,
   "id": "f996867a-ab44-4f87-9208-958548e149e6",
   "metadata": {},
   "outputs": [
    {
     "name": "stdout",
     "output_type": "stream",
     "text": [
      "fahrenheit temperatures: [32, 65, 120, 400, 1000]\n",
      "celsius temperatures : [0.0, 18.333333333333332, 48.888888888888886, 204.44444444444446, 537.7777777777778]\n"
     ]
    }
   ],
   "source": [
    "def fahrenheit_to_celsius(fahrenheit):\n",
    "    return (fahrenheit - 32) * 5/ 9\n",
    "\n",
    "def convert_temperatures(fahrenheit_list):\n",
    "    celsius_list =[]\n",
    "    for temp in fahrenheit_list:\n",
    "        celsius_temp = fahrenheit_to_celsius(temp)\n",
    "        celsius_list.append(celsius_temp)\n",
    "    return celsius_list\n",
    "fahrenheit_temperatures = [32,65,120,400,1000]\n",
    "celsius_temperatures = convert_temperatures(fahrenheit_temperatures)\n",
    "\n",
    "print(\"fahrenheit temperatures:\",fahrenheit_temperatures)\n",
    "print(\"celsius temperatures :\" , celsius_temperatures)\n",
    "    "
   ]
  },
  {
   "cell_type": "markdown",
   "id": "f4ba9508-6c9e-44e8-b33f-2d37c44d0eee",
   "metadata": {},
   "source": [
    "# 18. Create a program to print the common elements from two lists using a `for` loop."
   ]
  },
  {
   "cell_type": "code",
   "execution_count": 29,
   "id": "b163183b-88f1-4701-a9d9-6e76ead6963b",
   "metadata": {},
   "outputs": [
    {
     "name": "stdout",
     "output_type": "stream",
     "text": [
      "list1  [1, 2, 3, 4, 5]\n",
      "list2  [3, 4, 5, 6, 7]\n",
      "common element: [3, 4, 5]\n"
     ]
    }
   ],
   "source": [
    "def find_common_elements(list1, list2):\n",
    "    common_elements = []\n",
    "    for element in list1:\n",
    "        if element in list2:\n",
    "            common_elements.append(element)\n",
    "            \n",
    "    return common_elements\n",
    "\n",
    "list1 = [1,2,3,4,5]\n",
    "list2 = [3,4,5,6,7]\n",
    "\n",
    "common_elements = find_common_elements(list1, list2)\n",
    "\n",
    "print(\"list1 \", list1)\n",
    "print(\"list2 \",list2)\n",
    "print(\"common element:\",common_elements)"
   ]
  },
  {
   "cell_type": "markdown",
   "id": "b807df9c-099f-4ff5-9d50-da3f77845996",
   "metadata": {},
   "source": [
    "# 19. Develop a program that prints the pattern of right-angled triangles using a `for` loop. Use ‘*’ to draw the\n",
    "pattern"
   ]
  },
  {
   "cell_type": "code",
   "execution_count": 36,
   "id": "99a4cbca-3e35-4195-9f67-e0857be230c0",
   "metadata": {},
   "outputs": [
    {
     "name": "stdout",
     "output_type": "stream",
     "text": [
      "* \n",
      "* * \n",
      "* * * \n",
      "* * * * \n",
      "* * * * * \n",
      "* * * * * * \n",
      "* * * * * * * \n",
      "* * * * * * * * \n",
      "* * * * * * * * * \n",
      "* * * * * * * * * * \n"
     ]
    }
   ],
   "source": [
    "def print_right_triangle(n):\n",
    "    for i in range(1, n + 1):\n",
    "        for j in range(1, i + 1):\n",
    "            print('*', end=' ')\n",
    "        print()\n",
    "\n",
    "# Example: printing a right-angled triangle with height 5\n",
    "print_right_triangle(10)\n",
    "\n"
   ]
  },
  {
   "cell_type": "markdown",
   "id": "84e7bd44-2f3c-4997-aa89-60cf7e625474",
   "metadata": {},
   "source": [
    "# 20. Write a program to find the greatest common divisor (GCD) of two numbers using a `for` loop."
   ]
  },
  {
   "cell_type": "code",
   "execution_count": 2,
   "id": "3a70dfbc-3232-4392-ae62-c0ba11995c2e",
   "metadata": {},
   "outputs": [
    {
     "name": "stdout",
     "output_type": "stream",
     "text": [
      "the Gcd of 50 and 75 is 25\n"
     ]
    }
   ],
   "source": [
    "def find_gcd(x,y):\n",
    "    smaller = min(x,y)\n",
    "    for i in range(1,smaller + 1):\n",
    "        if x % i == 0 and y % i == 0 :\n",
    "            gcd = i \n",
    "            \n",
    "    return gcd \n",
    "\n",
    "num1 = 50\n",
    "num2 = 75\n",
    "\n",
    "result_gcd = find_gcd(num1 , num2)\n",
    "print(f\"the Gcd of {num1} and {num2} is {result_gcd}\")"
   ]
  },
  {
   "cell_type": "markdown",
   "id": "52562952-18b0-4c48-b0ec-fed48482c9f3",
   "metadata": {},
   "source": [
    "# Advanced Level:"
   ]
  },
  {
   "cell_type": "markdown",
   "id": "be58b050-3dea-461e-8624-8a30acab9967",
   "metadata": {},
   "source": [
    "# 21. Create a program that calculates the sum of the digits of numbers in a list using a list comprehension."
   ]
  },
  {
   "cell_type": "code",
   "execution_count": 8,
   "id": "470b07bc-234f-405c-9e6d-aa99bd3c477e",
   "metadata": {},
   "outputs": [
    {
     "name": "stdout",
     "output_type": "stream",
     "text": [
      "real list [123, 55, 663]\n",
      "sum of digits in every number: [6, 10, 15]\n"
     ]
    }
   ],
   "source": [
    "def digit_sum(number):\n",
    "    return sum (int(digit)for digit in str(number) if digit.isdigit())\n",
    "\n",
    "def sum_of_digits_is_list(numbers):\n",
    "    return [digit_sum(num) for num in numbers]\n",
    "\n",
    "numbers_list  = [123, 55,663]\n",
    "result = sum_of_digits_in_list(numbers_list)\n",
    "\n",
    "print(\"real list\" , numbers_list)\n",
    "print(\"sum of digits in every number:\",result)"
   ]
  },
  {
   "cell_type": "markdown",
   "id": "a3714f7a-c4cd-4d84-b918-11993446ad79",
   "metadata": {},
   "source": [
    "# 22. Write a program to find the prime factors of a given number using a `for` loop and list comprehension."
   ]
  },
  {
   "cell_type": "code",
   "execution_count": 9,
   "id": "ec007f1d-71ae-4ae1-9157-f61f6b4effea",
   "metadata": {},
   "outputs": [
    {
     "name": "stdin",
     "output_type": "stream",
     "text": [
      "Enter a number:  1\n"
     ]
    },
    {
     "name": "stdout",
     "output_type": "stream",
     "text": [
      "Prime factors of 1: [1]\n"
     ]
    }
   ],
   "source": [
    "def prime_factors(n):\n",
    "    factors = [i for i in range(1, n + 1) if n % i == 0 and all(i % j != 0 for j in range(2, int(i**0.5) + 1))]\n",
    "    return factors\n",
    "\n",
    "# Example usage:\n",
    "number = int(input(\"Enter a number: \"))\n",
    "result = prime_factors(number)\n",
    "\n",
    "print(f\"Prime factors of {number}: {result}\")\n"
   ]
  },
  {
   "cell_type": "markdown",
   "id": "a80d8b1c-94fb-4d22-9664-da1d030fde40",
   "metadata": {},
   "source": [
    "# 23. Develop a program that extracts unique elements from a list and stores them in a new list using a list comprehension."
   ]
  },
  {
   "cell_type": "code",
   "execution_count": 12,
   "id": "c65342cd-e39e-49c4-a18a-042bff896bed",
   "metadata": {},
   "outputs": [
    {
     "name": "stdout",
     "output_type": "stream",
     "text": [
      "original lissst  [1, 2, 1, 2, 3, 3, 4, 4, 4, 5, 5, 6]\n",
      "unique elements  [1, 2, 3, 4, 5, 6]\n"
     ]
    }
   ],
   "source": [
    "def extract_unique_elements(input_list):\n",
    "    return list(set([element for element in input_list]))\n",
    "\n",
    "origninal_list = [1,2,1,2,3,3,4,4,4,5,5,6]\n",
    "unique_elements = extract_unique_elements(origninal_list)\n",
    "\n",
    "print(\"original lissst \", origninal_list)\n",
    "print(\"unique elements \", unique_elements)"
   ]
  },
  {
   "cell_type": "markdown",
   "id": "1f383f1c-86f4-4b12-8776-1199c49acde1",
   "metadata": {},
   "source": [
    "# 24. Create a program that generates a list of all palindromic numbers up to a specified limit using a list comprehension."
   ]
  },
  {
   "cell_type": "code",
   "execution_count": 29,
   "id": "2bd25b4a-9243-4e52-a2a1-22eaa6f4df92",
   "metadata": {},
   "outputs": [
    {
     "name": "stdin",
     "output_type": "stream",
     "text": [
      "ENter the limit: 4\n"
     ]
    },
    {
     "ename": "NameError",
     "evalue": "name 'pa' is not defined",
     "output_type": "error",
     "traceback": [
      "\u001b[0;31m---------------------------------------------------------------------------\u001b[0m",
      "\u001b[0;31mNameError\u001b[0m                                 Traceback (most recent call last)",
      "Cell \u001b[0;32mIn[29], line 8\u001b[0m\n\u001b[1;32m      5\u001b[0m     \u001b[38;5;28;01mreturn\u001b[39;00m [num \u001b[38;5;28;01mfor\u001b[39;00m num \u001b[38;5;129;01min\u001b[39;00m \u001b[38;5;28mrange\u001b[39m (limit \u001b[38;5;241m+\u001b[39m\u001b[38;5;241m1\u001b[39m ) \u001b[38;5;28;01mif\u001b[39;00m Is_palindrome(num)]\n\u001b[1;32m      7\u001b[0m limit \u001b[38;5;241m=\u001b[39m \u001b[38;5;28mint\u001b[39m(\u001b[38;5;28minput\u001b[39m(\u001b[38;5;124m\"\u001b[39m\u001b[38;5;124mENter the limit:\u001b[39m\u001b[38;5;124m\"\u001b[39m))\n\u001b[0;32m----> 8\u001b[0m \u001b[43mpa\u001b[49m;indromic_list \u001b[38;5;241m=\u001b[39m palindromic_number(\u001b[38;5;28mlist\u001b[39m)\n\u001b[1;32m     10\u001b[0m \u001b[38;5;28mprint\u001b[39m(\u001b[38;5;124mf\u001b[39m\u001b[38;5;124m\"\u001b[39m\u001b[38;5;124mpalindromic number up to \u001b[39m\u001b[38;5;132;01m{\u001b[39;00mlimit\u001b[38;5;132;01m}\u001b[39;00m\u001b[38;5;124m : \u001b[39m\u001b[38;5;132;01m{\u001b[39;00mpalindromic_list\u001b[38;5;132;01m}\u001b[39;00m\u001b[38;5;124m\"\u001b[39m)\n",
      "\u001b[0;31mNameError\u001b[0m: name 'pa' is not defined"
     ]
    }
   ],
   "source": [
    "def is_palindrome(number):\n",
    "    return str (number) == str(number)[::-1]\n",
    "\n",
    "def palindromicI_numbers(limit):\n",
    "    return [num for num in range (limit +1 ) if Is_palindrome(num)]\n",
    "\n",
    "limit = int(input(\"ENter the limit:\"))\n",
    "pa;indromic_list = palindromic_number(list)\n",
    "\n",
    "print(f\"palindromic number up to {limit} : {palindromic_list}\")\n",
    "\n"
   ]
  },
  {
   "cell_type": "markdown",
   "id": "a4ef8971-01e7-4cdc-8c4b-d324d91654fb",
   "metadata": {},
   "source": [
    "# 25. Write a program to flatten a nested list using list comprehension."
   ]
  },
  {
   "cell_type": "code",
   "execution_count": 4,
   "id": "84ef94e4-c09b-454d-be5c-2b9745215902",
   "metadata": {},
   "outputs": [
    {
     "name": "stdout",
     "output_type": "stream",
     "text": [
      "original list: [1, [2, 3, [4, 5]], 6, [7, 8]]\n",
      "flattened list: [1, 2, 3, 4, 5, 6, 7, 8]\n"
     ]
    }
   ],
   "source": [
    "def flatten_nested_list(nested_list):\n",
    "    return [element for sublist in nested_list for element in (flatten_nested_list(sublist) if isinstance(sublist, list) else [sublist])]\n",
    "\n",
    "nested_list = [1, [2, 3, [4, 5]], 6, [7, 8]]\n",
    "flattened_list = flatten_nested_list(nested_list)\n",
    "\n",
    "print(\"original list:\", nested_list)\n",
    "print(\"flattened list:\", flattened_list)"
   ]
  },
  {
   "cell_type": "markdown",
   "id": "73869e27-c7c9-4eaf-9112-22b22e5ec345",
   "metadata": {},
   "source": [
    " # 31. Write a program to generate a list of prime numbers using the Sieve of Eratosthenes algorithm and list comprehension."
   ]
  },
  {
   "cell_type": "code",
   "execution_count": 5,
   "id": "b4db6284-1261-4025-8da8-ca421fbd225f",
   "metadata": {},
   "outputs": [
    {
     "name": "stdout",
     "output_type": "stream",
     "text": [
      "Prime numbers up to 50 are: [2, 3, 5, 7, 11, 13, 17, 19, 23, 29, 31, 37, 41, 43, 47]\n"
     ]
    }
   ],
   "source": [
    "def sieve_of_eratosthenes(n):\n",
    "    primes = [True] * (n + 1)\n",
    "    primes[0], primes[1] = False, False  # 0 and 1 are not prime numbers\n",
    "\n",
    "    for i in range(2, int(n**0.5) + 1):\n",
    "        if primes[i]:\n",
    "            primes[i*i:n+1:i] = [False] * len(primes[i*i:n+1:i])\n",
    "\n",
    "    return [num for num in range(2, n + 1) if primes[num]]\n",
    "\n",
    "# Example: Generate a list of prime numbers up to 50\n",
    "limit = 50\n",
    "prime_list = sieve_of_eratosthenes(limit)\n",
    "\n",
    "print(\"Prime numbers up to\", limit, \"are:\", prime_list)\n"
   ]
  },
  {
   "cell_type": "code",
   "execution_count": 9,
   "id": "3d5ce6a2-5fc3-4f62-beb3-8e89f813d348",
   "metadata": {},
   "outputs": [
    {
     "name": "stdout",
     "output_type": "stream",
     "text": [
      "prime number up to 50 are: [2, 3, 5, 7, 11, 13, 17, 19, 23, 29, 31, 37, 41, 43, 47]\n"
     ]
    }
   ],
   "source": [
    "def sieve_of_eratosthenes(n):\n",
    "    primes =[True] * (n + 1)\n",
    "    primes[0],primes[1] = False , False \n",
    "    \n",
    "    for i in range (2, int (n**0.5) +1):\n",
    "        if primes[i]:\n",
    "            primes[i*i:n+1:i] = [False] * len (primes[i*i:n+1:i])\n",
    "    return [num for num in range (2, n  +1) if primes[num]]\n",
    "\n",
    "\n",
    "limit =50 \n",
    "prime_list = sieve_of_eratosthenes(limit)\n",
    "print(\"prime number up to\", limit,\"are:\",prime_list)"
   ]
  },
  {
   "cell_type": "markdown",
   "id": "b373e4c6-4d78-4bee-8b38-52e28c6cdc82",
   "metadata": {},
   "source": [
    "# 32. Create a program that generates a list of all Pythagorean triplets up to a specified limit using list comprehension."
   ]
  },
  {
   "cell_type": "code",
   "execution_count": 13,
   "id": "341976cb-b255-4a30-afdd-e1a0b79e2ae1",
   "metadata": {},
   "outputs": [
    {
     "name": "stdout",
     "output_type": "stream",
     "text": [
      "pythagoren triplets up to 10 are [(3, 4, 5), (6, 8, 10)]\n"
     ]
    }
   ],
   "source": [
    "\n",
    "def generate_pythagorean(limit):\n",
    "    triplets = [(a,b,c) for a in range(1, limit +1)\n",
    "                          for b in range (a, limit + 1)\n",
    "                          for c in range (b, limit +1)\n",
    "                          if a**2 + b**2 == c**2]\n",
    "    return triplets\n",
    "\n",
    "limit = 10\n",
    "pythagoren_triplets = generate_pythagorean(limit)\n",
    "\n",
    "print(\"pythagoren triplets up to\" , limit , \"are\",pythagoren_triplets)\n"
   ]
  },
  {
   "cell_type": "markdown",
   "id": "2cef986a-eb54-4924-8b44-659ba99807d4",
   "metadata": {},
   "source": [
    "# 33. Develop a program that generates a list of all possible combinations of two lists using list comprehension."
   ]
  },
  {
   "cell_type": "code",
   "execution_count": 23,
   "id": "4e5c5939-73ce-4fbc-9192-cb11f5f631d7",
   "metadata": {},
   "outputs": [
    {
     "name": "stdout",
     "output_type": "stream",
     "text": [
      "Combinations of [1, 2] and ['a', 'b'] are: [(1, 'a'), (1, 'b'), (2, 'a'), (2, 'b')]\n"
     ]
    }
   ],
   "source": [
    "def generate_combinations(list1, list2):\n",
    "    combinations = [(x, y) for x in list1 for y in list2]\n",
    "    return combinations\n",
    "\n",
    "list1 = [1, 2]\n",
    "list2 = ['a', 'b']\n",
    "combinations = generate_combinations(list1, list2)\n",
    "print(\"Combinations of\", list1, \"and\", list2, \"are:\", combinations)\n"
   ]
  },
  {
   "cell_type": "markdown",
   "id": "e03d9207-57e0-41a1-b8be-fd87330b079c",
   "metadata": {},
   "source": [
    "# 34. Write a program that calculates the mean, median, and mode of a list of numbers using list comprehension."
   ]
  },
  {
   "cell_type": "markdown",
   "id": "67618c00-d426-4d4c-b539-5fa2eb7974fc",
   "metadata": {},
   "source": [
    "# 35. Create a program that generates Pascal's triangle up to a specified number of rows using list comprehension."
   ]
  },
  {
   "cell_type": "markdown",
   "id": "d8c18567-04f9-4527-958e-51366e76548d",
   "metadata": {},
   "source": [
    "# 37. Write a program that finds the longest word in a sentence using list comprehension."
   ]
  },
  {
   "cell_type": "code",
   "execution_count": 4,
   "id": "d843f83c-dfcd-41b7-863e-e64f0156bed5",
   "metadata": {},
   "outputs": [
    {
     "name": "stdin",
     "output_type": "stream",
     "text": [
      "enter a sentence daheem is good boy\n"
     ]
    },
    {
     "name": "stdout",
     "output_type": "stream",
     "text": [
      "the longest word in the sentence is daheem\n"
     ]
    }
   ],
   "source": [
    "\n",
    "sentence = input(\"enter a sentence\")\n",
    "words = [word.strip(\".,!?\") for word in sentence.split()]\n",
    "\n",
    "longest_word = max(words, key=len)\n",
    "\n",
    "print(f\"the longest word in the sentence is {longest_word}\")"
   ]
  },
  {
   "cell_type": "markdown",
   "id": "be5a6ee0-0d24-4619-ac6e-1bf39b6f87e1",
   "metadata": {},
   "source": [
    "# 38. Create a program that filters a list of strings to include only those with more than three vowels using list comprehension."
   ]
  },
  {
   "cell_type": "code",
   "execution_count": 8,
   "id": "647a6d96-fd49-4224-8dad-317d0f5181b5",
   "metadata": {},
   "outputs": [
    {
     "name": "stdout",
     "output_type": "stream",
     "text": [
      "strins with more than three vowels ['aeiou']\n"
     ]
    }
   ],
   "source": [
    "def count_vowels(word):\n",
    "    vowels = \"aeiouAEIOU\"\n",
    "    return sum(1 for char in word if char in vowels)\n",
    "\n",
    "string_list = [\"apple\", \"banana\",\"grape\",\"python\",\"programming\",\"hello\",\"aeiou\"]\n",
    "\n",
    "filtered_list = [word for word in string_list if count_vowels(word) > 3]\n",
    "\n",
    "print(\"strins with more than three vowels\",filtered_list)"
   ]
  },
  {
   "cell_type": "markdown",
   "id": "be22b0cb-924a-459e-ba0c-e4ef283169c4",
   "metadata": {},
   "source": [
    "# 39. Develop a program that calculates the sum of the digits of numbers from 1 to 1000 using list comprehension."
   ]
  },
  {
   "cell_type": "code",
   "execution_count": 5,
   "id": "ca8f783b-0200-4548-be26-0b1e626a41d3",
   "metadata": {},
   "outputs": [
    {
     "ename": "SyntaxError",
     "evalue": "incomplete input (2780944244.py, line 12)",
     "output_type": "error",
     "traceback": [
      "\u001b[0;36m  Cell \u001b[0;32mIn[5], line 12\u001b[0;36m\u001b[0m\n\u001b[0;31m    \u001b[0m\n\u001b[0m    ^\u001b[0m\n\u001b[0;31mSyntaxError\u001b[0m\u001b[0;31m:\u001b[0m incomplete input\n"
     ]
    }
   ],
   "source": [
    "def digit_sum(number):\n",
    "    return sum(int(digit) for digit in str(number))\n",
    "\n",
    "sums = [digit_sum(number) for number in range(1, 1001)]\n",
    "\n",
    "for i , value in enumerate(sums, 1):\n",
    "    print(f\"sum of digits for the number {i}: {value}\")\n",
    "    \n",
    "# do not run \n",
    "    "
   ]
  },
  {
   "cell_type": "markdown",
   "id": "186b256c-35ae-485f-9c71-7a408dcd2806",
   "metadata": {},
   "source": [
    "# 40. Write a program that generates a list of prime palindromic numbers using list comprehension."
   ]
  },
  {
   "cell_type": "code",
   "execution_count": 6,
   "id": "c6ab63ab-ac46-4899-bebc-070e6aee0a64",
   "metadata": {},
   "outputs": [
    {
     "name": "stdout",
     "output_type": "stream",
     "text": [
      "prime palidromic number [2, 3, 5, 7, 11, 101, 131, 151, 181, 191, 313, 353, 373, 383, 727, 757, 787, 797, 919, 929]\n"
     ]
    }
   ],
   "source": [
    "def is_prime(num):\n",
    "    if num < 2:\n",
    "        return False\n",
    "    for i in range(2, int(num**0.5) + 1):\n",
    "        if num % i == 0:\n",
    "            return False\n",
    "    return True\n",
    "\n",
    "def is_palindrome(num):\n",
    "    return str(num) == str(num)[::-1]\n",
    "\n",
    "prime_palindromes = [num for num in range(1,1000)if is_prime(num) and is_palindrome(num)]\n",
    "\n",
    "print(\"prime palidromic number\",prime_palindromes)"
   ]
  },
  {
   "cell_type": "code",
   "execution_count": null,
   "id": "c553d229-e5d2-4851-b0fa-dcae1db5e329",
   "metadata": {},
   "outputs": [],
   "source": []
  }
 ],
 "metadata": {
  "kernelspec": {
   "display_name": "Python 3 (ipykernel)",
   "language": "python",
   "name": "python3"
  },
  "language_info": {
   "codemirror_mode": {
    "name": "ipython",
    "version": 3
   },
   "file_extension": ".py",
   "mimetype": "text/x-python",
   "name": "python",
   "nbconvert_exporter": "python",
   "pygments_lexer": "ipython3",
   "version": "3.10.8"
  }
 },
 "nbformat": 4,
 "nbformat_minor": 5
}
